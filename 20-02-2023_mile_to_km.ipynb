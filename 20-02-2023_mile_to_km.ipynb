{
  "nbformat": 4,
  "nbformat_minor": 0,
  "metadata": {
    "colab": {
      "provenance": [],
      "authorship_tag": "ABX9TyO+I458vtoJofL93YqloK/Y",
      "include_colab_link": true
    },
    "kernelspec": {
      "name": "python3",
      "display_name": "Python 3"
    },
    "language_info": {
      "name": "python"
    }
  },
  "cells": [
    {
      "cell_type": "markdown",
      "metadata": {
        "id": "view-in-github",
        "colab_type": "text"
      },
      "source": [
        "<a href=\"https://colab.research.google.com/github/beratcmn/udacity-intro-to-tensorflow/blob/main/20-02-2023_mile_to_km.ipynb\" target=\"_parent\"><img src=\"https://colab.research.google.com/assets/colab-badge.svg\" alt=\"Open In Colab\"/></a>"
      ]
    },
    {
      "cell_type": "markdown",
      "source": [
        "### Importing the libraries"
      ],
      "metadata": {
        "id": "f6K8Tn_gHglN"
      }
    },
    {
      "cell_type": "code",
      "execution_count": 12,
      "metadata": {
        "colab": {
          "base_uri": "https://localhost:8080/",
          "height": 35
        },
        "id": "gHm5vRmZHYCm",
        "outputId": "a7edee9e-6c1a-44d9-f6f7-7beb3f6a3fb7"
      },
      "outputs": [
        {
          "output_type": "execute_result",
          "data": {
            "text/plain": [
              "'2.11.0'"
            ],
            "application/vnd.google.colaboratory.intrinsic+json": {
              "type": "string"
            }
          },
          "metadata": {},
          "execution_count": 12
        }
      ],
      "source": [
        "import tensorflow as tf\n",
        "import numpy as np\n",
        "import matplotlib.pyplot as plt\n",
        "tf.__version__"
      ]
    },
    {
      "cell_type": "markdown",
      "source": [
        "### Setting up the training data"
      ],
      "metadata": {
        "id": "2jWyH0sZHwFW"
      }
    },
    {
      "cell_type": "code",
      "source": [
        "miles_data = np.array([1, 13.31, 19, 58, 74, 121, 149, 258, 456, 559.23], dtype=float)\n",
        "km_data = np.array([1.6, 21.42, 30.57, 93.34, 119.09, 194.73, 239.79, 415.21, 733.86, 900], dtype=float)"
      ],
      "metadata": {
        "id": "vmODIeXNHt9c"
      },
      "execution_count": 13,
      "outputs": []
    },
    {
      "cell_type": "markdown",
      "source": [
        "### Creating the model"
      ],
      "metadata": {
        "id": "0OQ1toXiIxPj"
      }
    },
    {
      "cell_type": "code",
      "source": [
        "l0 = tf.keras.layers.Dense(units=1, input_shape=[1])\n",
        "model = tf.keras.Sequential([l0])"
      ],
      "metadata": {
        "id": "Jma1_5BOIycL"
      },
      "execution_count": 14,
      "outputs": []
    },
    {
      "cell_type": "markdown",
      "source": [
        "### Compiling the model"
      ],
      "metadata": {
        "id": "-dADZXl9I57f"
      }
    },
    {
      "cell_type": "code",
      "source": [
        "model.compile(loss='mean_squared_error',\n",
        "              optimizer=tf.keras.optimizers.Adam(0.1))"
      ],
      "metadata": {
        "id": "YZpRsmtzI5Lf"
      },
      "execution_count": 15,
      "outputs": []
    },
    {
      "cell_type": "markdown",
      "source": [
        "### Training the model"
      ],
      "metadata": {
        "id": "CDNI7Ue3I9Qx"
      }
    },
    {
      "cell_type": "code",
      "source": [
        "history = model.fit(miles_data, km_data, epochs=1000, verbose=False)\n",
        "print(\"Finished training!\")"
      ],
      "metadata": {
        "colab": {
          "base_uri": "https://localhost:8080/"
        },
        "id": "JTI559T2I-uh",
        "outputId": "1cf59880-547f-461c-ce7b-7f458f0669bb"
      },
      "execution_count": 16,
      "outputs": [
        {
          "output_type": "stream",
          "name": "stdout",
          "text": [
            "Finished training!\n"
          ]
        }
      ]
    },
    {
      "cell_type": "markdown",
      "source": [
        "### Displaying statistics"
      ],
      "metadata": {
        "id": "wfVnn5DsJZoN"
      }
    },
    {
      "cell_type": "code",
      "source": [
        "plt.xlabel('Epoch Number')\n",
        "plt.ylabel(\"Loss Magnitude\")\n",
        "plt.plot(history.history['loss'])"
      ],
      "metadata": {
        "colab": {
          "base_uri": "https://localhost:8080/",
          "height": 296
        },
        "id": "GJZVS4dWJcLX",
        "outputId": "fab9e47a-1b50-4dae-c86b-1e65e77c14b2"
      },
      "execution_count": 17,
      "outputs": [
        {
          "output_type": "execute_result",
          "data": {
            "text/plain": [
              "[<matplotlib.lines.Line2D at 0x7f63dd494a30>]"
            ]
          },
          "metadata": {},
          "execution_count": 17
        },
        {
          "output_type": "display_data",
          "data": {
            "text/plain": [
              "<Figure size 432x288 with 1 Axes>"
            ],
            "image/png": "[encoded data removed]"
          },
          "metadata": {
            "needs_background": "light"
          }
        }
      ]
    },
    {
      "cell_type": "markdown",
      "source": [
        "### Using the model"
      ],
      "metadata": {
        "id": "usWDHedVJhbR"
      }
    },
    {
      "cell_type": "code",
      "source": [
        "# 36 mile = 57.93 km\n",
        "print(model.predict([36]))"
      ],
      "metadata": {
        "colab": {
          "base_uri": "https://localhost:8080/"
        },
        "id": "eroGMcwNJi5K",
        "outputId": "5c183b62-1b18-476d-aebb-dd065eb59333"
      },
      "execution_count": 18,
      "outputs": [
        {
          "output_type": "stream",
          "name": "stdout",
          "text": [
            "1/1 [==============================] - 0s 72ms/step\n",
            "[[57.936794]]\n"
          ]
        }
      ]
    },
    {
      "cell_type": "code",
      "source": [
        "# 41 mile = 65,98 km\n",
        "print(model.predict([41]))"
      ],
      "metadata": {
        "colab": {
          "base_uri": "https://localhost:8080/"
        },
        "id": "vpSLrbQDKT2h",
        "outputId": "01b0e435-1f54-430e-91ac-4cad619856c6"
      },
      "execution_count": 22,
      "outputs": [
        {
          "output_type": "stream",
          "name": "stdout",
          "text": [
            "1/1 [==============================] - 0s 74ms/step\n",
            "[[65.98353]]\n"
          ]
        }
      ]
    },
    {
      "cell_type": "code",
      "source": [
        "# 989 mile = 1591,64 km\n",
        "print(model.predict([989]))"
      ],
      "metadata": {
        "colab": {
          "base_uri": "https://localhost:8080/"
        },
        "id": "wY-JzWMVKdi1",
        "outputId": "93506a9c-d056-4e7c-c747-0cffa9b0a712"
      },
      "execution_count": 23,
      "outputs": [
        {
          "output_type": "stream",
          "name": "stdout",
          "text": [
            "1/1 [==============================] - 0s 65ms/step\n",
            "[[1591.6442]]\n"
          ]
        }
      ]
    },
    {
      "cell_type": "markdown",
      "source": [
        "### Looking at the layer weights"
      ],
      "metadata": {
        "id": "_KYNEML6J5HU"
      }
    },
    {
      "cell_type": "code",
      "source": [
        "l0.get_weights()"
      ],
      "metadata": {
        "colab": {
          "base_uri": "https://localhost:8080/"
        },
        "id": "PfG1WB29J7XO",
        "outputId": "8b027e40-763b-4213-8767-69d74aaf76d3"
      },
      "execution_count": 24,
      "outputs": [
        {
          "output_type": "execute_result",
          "data": {
            "text/plain": [
              "[array([[1.6093466]], dtype=float32), array([0.00031617], dtype=float32)]"
            ]
          },
          "metadata": {},
          "execution_count": 24
        }
      ]
    }
  ]
}